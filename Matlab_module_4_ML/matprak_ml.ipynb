{
 "cells": [
  {
   "cell_type": "code",
   "execution_count": 1,
   "metadata": {},
   "outputs": [
    {
     "name": "stderr",
     "output_type": "stream",
     "text": [
      "Using TensorFlow backend.\n"
     ]
    }
   ],
   "source": [
    "import pandas as pd\n",
    "import numpy as np\n",
    "import re\n",
    "from keras.layers import Dense,GaussianNoise,LeakyReLU,Activation\n",
    "from keras.models import Sequential\n",
    "import matplotlib.pyplot as plt\n",
    "from sklearn.naive_bayes import GaussianNB,BernoulliNB,MultinomialNB,CategoricalNB\n",
    "from sklearn.discriminant_analysis import LinearDiscriminantAnalysis\n",
    "from sklearn.discriminant_analysis import QuadraticDiscriminantAnalysis\n"
   ]
  },
  {
   "cell_type": "markdown",
   "metadata": {},
   "source": [
    "## Чтение и предварительная обработка данных"
   ]
  },
  {
   "cell_type": "code",
   "execution_count": 2,
   "metadata": {},
   "outputs": [],
   "source": [
    "train=open('svmdata4.txt','r') # читаем файл с тренировочной выборкой\n",
    "train = train.read().splitlines() #  разделяем текст на строки\n",
    "test=open('svmdata4test.txt','r') # читаем файл с тестовой выборкой\n",
    "test=test.read().splitlines()"
   ]
  },
  {
   "cell_type": "markdown",
   "metadata": {},
   "source": [
    "Удаляем первую строку, содрежащую индексы"
   ]
  },
  {
   "cell_type": "code",
   "execution_count": 3,
   "metadata": {},
   "outputs": [
    {
     "data": {
      "text/plain": [
       "'X1\\tX2\\tColors'"
      ]
     },
     "execution_count": 3,
     "metadata": {},
     "output_type": "execute_result"
    }
   ],
   "source": [
    "train.pop(0)\n",
    "test.pop(0)"
   ]
  },
  {
   "cell_type": "markdown",
   "metadata": {},
   "source": [
    "Создаем numpy массивы из данных"
   ]
  },
  {
   "cell_type": "code",
   "execution_count": 4,
   "metadata": {},
   "outputs": [],
   "source": [
    "train_data=np.array(train)\n",
    "test_data=np.array(test)"
   ]
  },
  {
   "cell_type": "markdown",
   "metadata": {},
   "source": [
    "Создаем пустую обучающую выборку, условимся, что red - 0, green - 1"
   ]
  },
  {
   "cell_type": "code",
   "execution_count": 5,
   "metadata": {},
   "outputs": [],
   "source": [
    "width=2 # ширина двумерного массива, т.к. мы имеем два числа, определющих выборку\n",
    "train_length=train_data.shape[0] # длина массива тренировочных данных\n",
    "test_length=test_data.shape[0] # длнна массива тестовых данных\n",
    "\n",
    "\n",
    "# подготавливаем массивы необходимых размеров\n",
    "x_train=np.ones((train_length,width))\n",
    "y_train=np.ones((train_length,1))\n",
    "x_test=np.ones((test_length,width))\n",
    "y_test=np.ones((test_length,1))"
   ]
  },
  {
   "cell_type": "markdown",
   "metadata": {},
   "source": [
    "Создаем на основе считанных файлов выборки"
   ]
  },
  {
   "cell_type": "code",
   "execution_count": 6,
   "metadata": {},
   "outputs": [],
   "source": [
    "for i,line in enumerate(train_data): # заполняем тренировочный массив  \n",
    "        data=re.split(r'\\t',line)    \n",
    "        # разделяем каждую строку по символу табуляции\n",
    "        x_train[i][0]=float(data[1]) # заполняем массив координат\n",
    "        x_train[i][1]=float(data[2])\n",
    "        if data[3]=='red': # заполняем массив y \n",
    "            y_train[i]=0  \n",
    "        else:\n",
    "            y_train[i]=1\n",
    "            \n",
    "\n",
    "for i,line in enumerate(test_data): # по аналогии заполняем тестовый массив\n",
    "        data=re.split(r'\\t',line)\n",
    "        x_test[i][0]=float(data[1])\n",
    "        x_test[i][1]=float(data[2])\n",
    "        if data[3]=='red':\n",
    "            y_test[i]=0\n",
    "        else:\n",
    "            y_test[i]=1"
   ]
  },
  {
   "cell_type": "markdown",
   "metadata": {},
   "source": [
    "Нормализуем обучающиую выборку"
   ]
  },
  {
   "cell_type": "code",
   "execution_count": 7,
   "metadata": {},
   "outputs": [
    {
     "name": "stdout",
     "output_type": "stream",
     "text": [
      "Первая строка до нормализации [11.50308712 -0.87201722]\n",
      "Первая строка после нормализации [ 1.4989743  -0.73414582]\n",
      "Среднее арифметическое по стобцам  [ 6.16973542 -0.01688913]\n",
      "Дисперсия по столбцам [3.55800075 1.16479323]\n"
     ]
    }
   ],
   "source": [
    "print('Первая строка до нормализации',x_train[0])\n",
    "means = x_train.mean(axis=0) # определим среднее\n",
    "stds = x_train.std(axis=0)   # определим дисперсию\n",
    "# нормализовать будем следующим образом:\n",
    "# разделим разницу между значением каждой ячейки массива и дисперсией на среднее\n",
    "for i in range(x_train.shape[0]):\n",
    "    for j in range(x_train.shape[1]):\n",
    "        x_train[i][j]=(x_train[i][j]-means[j])/stds[j]\n",
    "\n",
    "print('Первая строка после нормализации',x_train[0])\n",
    "print('Среднее арифметическое по стобцам ',means)\n",
    "print('Дисперсия по столбцам' ,stds)"
   ]
  },
  {
   "cell_type": "markdown",
   "metadata": {},
   "source": [
    "Нормализуем тестовую выборку"
   ]
  },
  {
   "cell_type": "code",
   "execution_count": 8,
   "metadata": {},
   "outputs": [],
   "source": [
    "# воспользуемся тем же методом нормализации\n",
    "for i in range(x_test.shape[0]):\n",
    "    for j in range(x_test.shape[1]):\n",
    "        x_test[i][j]=(x_test[i][j]-means[j])/stds[j]"
   ]
  },
  {
   "cell_type": "markdown",
   "metadata": {},
   "source": [
    "## Создадим модель нейронной сети"
   ]
  },
  {
   "cell_type": "code",
   "execution_count": 9,
   "metadata": {},
   "outputs": [],
   "source": [
    "# сформируем простую нейронную сеть\n",
    "# из пакета keras возьмем модель Sequential (с последовательно связанными слоями)\n",
    "model=Sequential()\n",
    "\n",
    "#добавим нормального(гауссого) шума ,чтобы избежать переобучения\n",
    "model.add(GaussianNoise(stddev=0.03,input_shape=(2,)))\n",
    "\n",
    "# добавим первый слой нейронов\n",
    "model.add(Dense(256))\n",
    "# добавим функцию активации LeakyReLU,\n",
    "# которая отсекает у функции ReLu нулевые значения,\n",
    "# изменяя их на a*x, где в нашем случае a = 0.2\n",
    "#(https://www.tensorflow.org/api_docs/python/tf/keras/layers/LeakyReLU\n",
    "model.add(LeakyReLU(0.2))\n",
    "# по аналогии создадим второй слой, уменьшив количество нейронов в 2 раза\n",
    "model.add(Dense(128))\n",
    "model.add(LeakyReLU(0.2))\n",
    "# т.к. наша задача - задача бинарной классификации,\n",
    "# то на выходе нам достаточо 1 нейрона\n",
    "model.add(Dense(1))\n",
    "# и функцию активации - sigmoid\n",
    "model.add(Activation('sigmoid'))"
   ]
  },
  {
   "cell_type": "code",
   "execution_count": 10,
   "metadata": {},
   "outputs": [
    {
     "name": "stdout",
     "output_type": "stream",
     "text": [
      "Model: \"sequential_1\"\n",
      "_________________________________________________________________\n",
      "Layer (type)                 Output Shape              Param #   \n",
      "=================================================================\n",
      "gaussian_noise_1 (GaussianNo (None, 2)                 0         \n",
      "_________________________________________________________________\n",
      "dense_1 (Dense)              (None, 256)               768       \n",
      "_________________________________________________________________\n",
      "leaky_re_lu_1 (LeakyReLU)    (None, 256)               0         \n",
      "_________________________________________________________________\n",
      "dense_2 (Dense)              (None, 128)               32896     \n",
      "_________________________________________________________________\n",
      "leaky_re_lu_2 (LeakyReLU)    (None, 128)               0         \n",
      "_________________________________________________________________\n",
      "dense_3 (Dense)              (None, 1)                 129       \n",
      "_________________________________________________________________\n",
      "activation_1 (Activation)    (None, 1)                 0         \n",
      "=================================================================\n",
      "Total params: 33,793\n",
      "Trainable params: 33,793\n",
      "Non-trainable params: 0\n",
      "_________________________________________________________________\n"
     ]
    }
   ],
   "source": [
    "# выведем полученную модель на экран\n",
    "model.summary()"
   ]
  },
  {
   "cell_type": "code",
   "execution_count": 11,
   "metadata": {},
   "outputs": [
    {
     "name": "stdout",
     "output_type": "stream",
     "text": [
      "Train on 150 samples, validate on 50 samples\n",
      "Epoch 1/150\n",
      "150/150 [==============================] - 0s 2ms/step - loss: 0.3525 - accuracy: 0.8467 - val_loss: 0.2221 - val_accuracy: 0.8800\n",
      "Epoch 2/150\n",
      "150/150 [==============================] - 0s 1ms/step - loss: 0.2826 - accuracy: 0.8533 - val_loss: 0.2027 - val_accuracy: 0.9000\n",
      "Epoch 3/150\n",
      "150/150 [==============================] - 0s 970us/step - loss: 0.2690 - accuracy: 0.8733 - val_loss: 0.2021 - val_accuracy: 0.9200\n",
      "Epoch 4/150\n",
      "150/150 [==============================] - 0s 1ms/step - loss: 0.2882 - accuracy: 0.8733 - val_loss: 0.1983 - val_accuracy: 0.9000\n",
      "Epoch 5/150\n",
      "150/150 [==============================] - 0s 1ms/step - loss: 0.2663 - accuracy: 0.8733 - val_loss: 0.1946 - val_accuracy: 0.9000\n",
      "Epoch 6/150\n",
      "150/150 [==============================] - 0s 1ms/step - loss: 0.2540 - accuracy: 0.8667 - val_loss: 0.1811 - val_accuracy: 0.8800\n",
      "Epoch 7/150\n",
      "150/150 [==============================] - 0s 924us/step - loss: 0.2553 - accuracy: 0.8733 - val_loss: 0.1712 - val_accuracy: 0.9000\n",
      "Epoch 8/150\n",
      "150/150 [==============================] - 0s 1ms/step - loss: 0.2516 - accuracy: 0.9000 - val_loss: 0.1935 - val_accuracy: 0.9000\n",
      "Epoch 9/150\n",
      "150/150 [==============================] - 0s 1ms/step - loss: 0.2412 - accuracy: 0.8867 - val_loss: 0.1791 - val_accuracy: 0.9000\n",
      "Epoch 10/150\n",
      "150/150 [==============================] - 0s 1000us/step - loss: 0.2397 - accuracy: 0.8933 - val_loss: 0.1837 - val_accuracy: 0.9000\n",
      "Epoch 11/150\n",
      "150/150 [==============================] - 0s 1ms/step - loss: 0.2436 - accuracy: 0.8933 - val_loss: 0.1608 - val_accuracy: 0.9000\n",
      "Epoch 12/150\n",
      "150/150 [==============================] - 0s 2ms/step - loss: 0.2308 - accuracy: 0.8933 - val_loss: 0.1481 - val_accuracy: 0.9600\n",
      "Epoch 13/150\n",
      "150/150 [==============================] - 0s 1ms/step - loss: 0.2358 - accuracy: 0.8933 - val_loss: 0.1376 - val_accuracy: 0.9200\n",
      "Epoch 14/150\n",
      "150/150 [==============================] - 0s 1ms/step - loss: 0.2154 - accuracy: 0.9067 - val_loss: 0.1593 - val_accuracy: 0.9400\n",
      "Epoch 15/150\n",
      "150/150 [==============================] - 0s 900us/step - loss: 0.2339 - accuracy: 0.9000 - val_loss: 0.1296 - val_accuracy: 0.9400\n",
      "Epoch 16/150\n",
      "150/150 [==============================] - 0s 1ms/step - loss: 0.2162 - accuracy: 0.9000 - val_loss: 0.1398 - val_accuracy: 0.9200\n",
      "Epoch 17/150\n",
      "150/150 [==============================] - 0s 983us/step - loss: 0.2216 - accuracy: 0.8867 - val_loss: 0.1312 - val_accuracy: 0.9800\n",
      "Epoch 18/150\n",
      "150/150 [==============================] - 0s 986us/step - loss: 0.1876 - accuracy: 0.9067 - val_loss: 0.1955 - val_accuracy: 0.9200\n",
      "Epoch 19/150\n",
      "150/150 [==============================] - 0s 980us/step - loss: 0.2273 - accuracy: 0.9000 - val_loss: 0.1165 - val_accuracy: 0.9600\n",
      "Epoch 20/150\n",
      "150/150 [==============================] - 0s 1ms/step - loss: 0.2087 - accuracy: 0.9200 - val_loss: 0.1225 - val_accuracy: 0.9400\n",
      "Epoch 21/150\n",
      "150/150 [==============================] - 0s 965us/step - loss: 0.2278 - accuracy: 0.8933 - val_loss: 0.1163 - val_accuracy: 0.9200\n",
      "Epoch 22/150\n",
      "150/150 [==============================] - 0s 1ms/step - loss: 0.2126 - accuracy: 0.9067 - val_loss: 0.1096 - val_accuracy: 0.9600\n",
      "Epoch 23/150\n",
      "150/150 [==============================] - 0s 995us/step - loss: 0.1895 - accuracy: 0.9067 - val_loss: 0.1361 - val_accuracy: 0.9600\n",
      "Epoch 24/150\n",
      "150/150 [==============================] - 0s 962us/step - loss: 0.1985 - accuracy: 0.9200 - val_loss: 0.1242 - val_accuracy: 0.9600\n",
      "Epoch 25/150\n",
      "150/150 [==============================] - 0s 1ms/step - loss: 0.2051 - accuracy: 0.9200 - val_loss: 0.1029 - val_accuracy: 0.9600\n",
      "Epoch 26/150\n",
      "150/150 [==============================] - 0s 986us/step - loss: 0.1976 - accuracy: 0.9000 - val_loss: 0.1147 - val_accuracy: 0.9800\n",
      "Epoch 27/150\n",
      "150/150 [==============================] - 0s 1ms/step - loss: 0.2032 - accuracy: 0.9133 - val_loss: 0.1102 - val_accuracy: 0.9800\n",
      "Epoch 28/150\n",
      "150/150 [==============================] - 0s 1ms/step - loss: 0.1889 - accuracy: 0.9200 - val_loss: 0.1427 - val_accuracy: 0.9800\n",
      "Epoch 29/150\n",
      "150/150 [==============================] - 0s 961us/step - loss: 0.2337 - accuracy: 0.8933 - val_loss: 0.1029 - val_accuracy: 0.9800\n",
      "Epoch 30/150\n",
      "150/150 [==============================] - 0s 1ms/step - loss: 0.1896 - accuracy: 0.8933 - val_loss: 0.0993 - val_accuracy: 0.9800\n",
      "Epoch 31/150\n",
      "150/150 [==============================] - 0s 1ms/step - loss: 0.1948 - accuracy: 0.9200 - val_loss: 0.1141 - val_accuracy: 0.9600\n",
      "Epoch 32/150\n",
      "150/150 [==============================] - 0s 1ms/step - loss: 0.2022 - accuracy: 0.9467 - val_loss: 0.1051 - val_accuracy: 0.9800\n",
      "Epoch 33/150\n",
      "150/150 [==============================] - 0s 1ms/step - loss: 0.2125 - accuracy: 0.9000 - val_loss: 0.0951 - val_accuracy: 0.9800\n",
      "Epoch 34/150\n",
      "150/150 [==============================] - 0s 1ms/step - loss: 0.1923 - accuracy: 0.8933 - val_loss: 0.1049 - val_accuracy: 0.9800\n",
      "Epoch 35/150\n",
      "150/150 [==============================] - 0s 1ms/step - loss: 0.1887 - accuracy: 0.9133 - val_loss: 0.0970 - val_accuracy: 0.9800\n",
      "Epoch 36/150\n",
      "150/150 [==============================] - 0s 850us/step - loss: 0.1754 - accuracy: 0.9200 - val_loss: 0.0984 - val_accuracy: 0.9800\n",
      "Epoch 37/150\n",
      "150/150 [==============================] - 0s 1ms/step - loss: 0.1921 - accuracy: 0.9200 - val_loss: 0.0992 - val_accuracy: 0.9400\n",
      "Epoch 38/150\n",
      "150/150 [==============================] - 0s 980us/step - loss: 0.1841 - accuracy: 0.9133 - val_loss: 0.1112 - val_accuracy: 0.9600\n",
      "Epoch 39/150\n",
      "150/150 [==============================] - 0s 979us/step - loss: 0.1881 - accuracy: 0.9133 - val_loss: 0.1074 - val_accuracy: 0.9600\n",
      "Epoch 40/150\n",
      "150/150 [==============================] - 0s 975us/step - loss: 0.1857 - accuracy: 0.9333 - val_loss: 0.0903 - val_accuracy: 0.9400\n",
      "Epoch 41/150\n",
      "150/150 [==============================] - 0s 1ms/step - loss: 0.1880 - accuracy: 0.9067 - val_loss: 0.1096 - val_accuracy: 0.9600\n",
      "Epoch 42/150\n",
      "150/150 [==============================] - 0s 922us/step - loss: 0.1978 - accuracy: 0.9133 - val_loss: 0.0825 - val_accuracy: 0.9600\n",
      "Epoch 43/150\n",
      "150/150 [==============================] - 0s 1ms/step - loss: 0.1672 - accuracy: 0.9200 - val_loss: 0.1186 - val_accuracy: 0.9800\n",
      "Epoch 44/150\n",
      "150/150 [==============================] - 0s 1ms/step - loss: 0.1925 - accuracy: 0.9267 - val_loss: 0.0779 - val_accuracy: 0.9600\n",
      "Epoch 45/150\n",
      "150/150 [==============================] - 0s 872us/step - loss: 0.1794 - accuracy: 0.9267 - val_loss: 0.0948 - val_accuracy: 0.9400\n",
      "Epoch 46/150\n",
      "150/150 [==============================] - 0s 1ms/step - loss: 0.1793 - accuracy: 0.9200 - val_loss: 0.0874 - val_accuracy: 0.9800\n",
      "Epoch 47/150\n",
      "150/150 [==============================] - 0s 1ms/step - loss: 0.1843 - accuracy: 0.9067 - val_loss: 0.0868 - val_accuracy: 0.9400\n",
      "Epoch 48/150\n",
      "150/150 [==============================] - 0s 975us/step - loss: 0.2031 - accuracy: 0.9333 - val_loss: 0.0871 - val_accuracy: 0.9400\n",
      "Epoch 49/150\n",
      "150/150 [==============================] - 0s 960us/step - loss: 0.1795 - accuracy: 0.9333 - val_loss: 0.0866 - val_accuracy: 0.9800\n",
      "Epoch 50/150\n",
      "150/150 [==============================] - 0s 1ms/step - loss: 0.1821 - accuracy: 0.9200 - val_loss: 0.0924 - val_accuracy: 0.9800\n",
      "Epoch 51/150\n",
      "150/150 [==============================] - 0s 900us/step - loss: 0.1814 - accuracy: 0.9200 - val_loss: 0.0777 - val_accuracy: 0.9800\n",
      "Epoch 52/150\n",
      "150/150 [==============================] - 0s 985us/step - loss: 0.1824 - accuracy: 0.9400 - val_loss: 0.0816 - val_accuracy: 0.9800\n",
      "Epoch 53/150\n",
      "150/150 [==============================] - 0s 1ms/step - loss: 0.1747 - accuracy: 0.9200 - val_loss: 0.0779 - val_accuracy: 0.9600\n",
      "Epoch 54/150\n",
      "150/150 [==============================] - 0s 995us/step - loss: 0.1700 - accuracy: 0.9200 - val_loss: 0.0840 - val_accuracy: 0.9800\n",
      "Epoch 55/150\n",
      "150/150 [==============================] - 0s 1ms/step - loss: 0.1849 - accuracy: 0.9133 - val_loss: 0.1094 - val_accuracy: 0.9600\n",
      "Epoch 56/150\n",
      "150/150 [==============================] - 0s 1ms/step - loss: 0.1918 - accuracy: 0.9200 - val_loss: 0.0995 - val_accuracy: 0.9800\n",
      "Epoch 57/150\n"
     ]
    },
    {
     "name": "stdout",
     "output_type": "stream",
     "text": [
      "150/150 [==============================] - 0s 1ms/step - loss: 0.1964 - accuracy: 0.9267 - val_loss: 0.0802 - val_accuracy: 0.9800\n",
      "Epoch 58/150\n",
      "150/150 [==============================] - 0s 889us/step - loss: 0.2111 - accuracy: 0.9200 - val_loss: 0.0940 - val_accuracy: 0.9600\n",
      "Epoch 59/150\n",
      "150/150 [==============================] - 0s 1ms/step - loss: 0.1792 - accuracy: 0.9400 - val_loss: 0.0838 - val_accuracy: 0.9400\n",
      "Epoch 60/150\n",
      "150/150 [==============================] - 0s 885us/step - loss: 0.1843 - accuracy: 0.9200 - val_loss: 0.0789 - val_accuracy: 0.9600\n",
      "Epoch 61/150\n",
      "150/150 [==============================] - 0s 903us/step - loss: 0.1521 - accuracy: 0.9200 - val_loss: 0.1133 - val_accuracy: 0.9600\n",
      "Epoch 62/150\n",
      "150/150 [==============================] - 0s 1ms/step - loss: 0.2052 - accuracy: 0.9067 - val_loss: 0.0925 - val_accuracy: 0.9800\n",
      "Epoch 63/150\n",
      "150/150 [==============================] - 0s 960us/step - loss: 0.1906 - accuracy: 0.9133 - val_loss: 0.0710 - val_accuracy: 0.9600\n",
      "Epoch 64/150\n",
      "150/150 [==============================] - 0s 960us/step - loss: 0.1932 - accuracy: 0.9133 - val_loss: 0.0799 - val_accuracy: 0.9800\n",
      "Epoch 65/150\n",
      "150/150 [==============================] - 0s 1ms/step - loss: 0.1812 - accuracy: 0.9400 - val_loss: 0.0813 - val_accuracy: 0.9600\n",
      "Epoch 66/150\n",
      "150/150 [==============================] - 0s 914us/step - loss: 0.1987 - accuracy: 0.9200 - val_loss: 0.0780 - val_accuracy: 0.9600\n",
      "Epoch 67/150\n",
      "150/150 [==============================] - 0s 979us/step - loss: 0.1645 - accuracy: 0.9267 - val_loss: 0.0801 - val_accuracy: 0.9800\n",
      "Epoch 68/150\n",
      "150/150 [==============================] - 0s 1ms/step - loss: 0.1549 - accuracy: 0.9333 - val_loss: 0.1000 - val_accuracy: 0.9600\n",
      "Epoch 69/150\n",
      "150/150 [==============================] - 0s 859us/step - loss: 0.1929 - accuracy: 0.9000 - val_loss: 0.0708 - val_accuracy: 0.9800\n",
      "Epoch 70/150\n",
      "150/150 [==============================] - 0s 903us/step - loss: 0.1892 - accuracy: 0.9000 - val_loss: 0.0710 - val_accuracy: 0.9800\n",
      "Epoch 71/150\n",
      "150/150 [==============================] - ETA: 0s - loss: 0.1750 - accuracy: 0.9178 - 0s 969us/step - loss: 0.1759 - accuracy: 0.9133 - val_loss: 0.0709 - val_accuracy: 0.9800\n",
      "Epoch 72/150\n",
      "150/150 [==============================] - 0s 1ms/step - loss: 0.1866 - accuracy: 0.9333 - val_loss: 0.0670 - val_accuracy: 0.9800\n",
      "Epoch 73/150\n",
      "150/150 [==============================] - 0s 884us/step - loss: 0.1709 - accuracy: 0.9200 - val_loss: 0.0778 - val_accuracy: 0.9600\n",
      "Epoch 74/150\n",
      "150/150 [==============================] - 0s 979us/step - loss: 0.1864 - accuracy: 0.9333 - val_loss: 0.0710 - val_accuracy: 0.9800\n",
      "Epoch 75/150\n",
      "150/150 [==============================] - 0s 915us/step - loss: 0.1829 - accuracy: 0.9133 - val_loss: 0.0762 - val_accuracy: 0.9800\n",
      "Epoch 76/150\n",
      "150/150 [==============================] - 0s 928us/step - loss: 0.1683 - accuracy: 0.9133 - val_loss: 0.0805 - val_accuracy: 0.9800\n",
      "Epoch 77/150\n",
      "150/150 [==============================] - 0s 1ms/step - loss: 0.1750 - accuracy: 0.9200 - val_loss: 0.0650 - val_accuracy: 0.9800\n",
      "Epoch 78/150\n",
      "150/150 [==============================] - 0s 2ms/step - loss: 0.1735 - accuracy: 0.9267 - val_loss: 0.0663 - val_accuracy: 0.9800\n",
      "Epoch 79/150\n",
      "150/150 [==============================] - 0s 1ms/step - loss: 0.1605 - accuracy: 0.9400 - val_loss: 0.0808 - val_accuracy: 0.9600\n",
      "Epoch 80/150\n",
      "150/150 [==============================] - 0s 1ms/step - loss: 0.1916 - accuracy: 0.9200 - val_loss: 0.1009 - val_accuracy: 0.9800\n",
      "Epoch 81/150\n",
      "150/150 [==============================] - 0s 1ms/step - loss: 0.1861 - accuracy: 0.9333 - val_loss: 0.0751 - val_accuracy: 0.9800\n",
      "Epoch 82/150\n",
      "150/150 [==============================] - 0s 1ms/step - loss: 0.1965 - accuracy: 0.9133 - val_loss: 0.0637 - val_accuracy: 0.9600\n",
      "Epoch 83/150\n",
      "150/150 [==============================] - 0s 1ms/step - loss: 0.1746 - accuracy: 0.9200 - val_loss: 0.0654 - val_accuracy: 0.9600\n",
      "Epoch 84/150\n",
      "150/150 [==============================] - 0s 1ms/step - loss: 0.1747 - accuracy: 0.9267 - val_loss: 0.0825 - val_accuracy: 0.9800\n",
      "Epoch 85/150\n",
      "150/150 [==============================] - 0s 1ms/step - loss: 0.2026 - accuracy: 0.9133 - val_loss: 0.0648 - val_accuracy: 0.9800\n",
      "Epoch 86/150\n",
      "150/150 [==============================] - 0s 912us/step - loss: 0.1854 - accuracy: 0.9133 - val_loss: 0.0639 - val_accuracy: 0.9800\n",
      "Epoch 87/150\n",
      "150/150 [==============================] - 0s 1ms/step - loss: 0.1874 - accuracy: 0.9333 - val_loss: 0.0762 - val_accuracy: 0.9800\n",
      "Epoch 88/150\n",
      "150/150 [==============================] - 0s 1ms/step - loss: 0.1783 - accuracy: 0.9200 - val_loss: 0.0824 - val_accuracy: 0.9600\n",
      "Epoch 89/150\n",
      "150/150 [==============================] - 0s 1ms/step - loss: 0.1896 - accuracy: 0.9133 - val_loss: 0.0878 - val_accuracy: 0.9400\n",
      "Epoch 90/150\n",
      "150/150 [==============================] - 0s 1ms/step - loss: 0.1838 - accuracy: 0.9200 - val_loss: 0.0693 - val_accuracy: 0.9600\n",
      "Epoch 91/150\n",
      "150/150 [==============================] - 0s 1ms/step - loss: 0.1811 - accuracy: 0.9200 - val_loss: 0.0695 - val_accuracy: 0.9800\n",
      "Epoch 92/150\n",
      "150/150 [==============================] - 0s 949us/step - loss: 0.1699 - accuracy: 0.9200 - val_loss: 0.0951 - val_accuracy: 0.9600\n",
      "Epoch 93/150\n",
      "150/150 [==============================] - 0s 1ms/step - loss: 0.1630 - accuracy: 0.9400 - val_loss: 0.0852 - val_accuracy: 0.9800\n",
      "Epoch 94/150\n",
      "150/150 [==============================] - 0s 1ms/step - loss: 0.1976 - accuracy: 0.9067 - val_loss: 0.0771 - val_accuracy: 0.9800\n",
      "Epoch 95/150\n",
      "150/150 [==============================] - 0s 968us/step - loss: 0.1462 - accuracy: 0.9400 - val_loss: 0.0836 - val_accuracy: 0.9600\n",
      "Epoch 96/150\n",
      "150/150 [==============================] - 0s 1ms/step - loss: 0.1732 - accuracy: 0.9333 - val_loss: 0.0777 - val_accuracy: 0.9400\n",
      "Epoch 97/150\n",
      "150/150 [==============================] - 0s 1ms/step - loss: 0.1652 - accuracy: 0.9200 - val_loss: 0.0909 - val_accuracy: 0.9600\n",
      "Epoch 98/150\n",
      "150/150 [==============================] - 0s 954us/step - loss: 0.1770 - accuracy: 0.9200 - val_loss: 0.0623 - val_accuracy: 0.9800\n",
      "Epoch 99/150\n",
      "150/150 [==============================] - 0s 962us/step - loss: 0.1756 - accuracy: 0.9133 - val_loss: 0.0694 - val_accuracy: 0.9800\n",
      "Epoch 100/150\n",
      "150/150 [==============================] - 0s 961us/step - loss: 0.1921 - accuracy: 0.9267 - val_loss: 0.0801 - val_accuracy: 0.9600\n",
      "Epoch 101/150\n",
      "150/150 [==============================] - 0s 874us/step - loss: 0.1587 - accuracy: 0.9133 - val_loss: 0.0773 - val_accuracy: 0.9600\n",
      "Epoch 102/150\n",
      "150/150 [==============================] - 0s 966us/step - loss: 0.1706 - accuracy: 0.9067 - val_loss: 0.0651 - val_accuracy: 0.9800\n",
      "Epoch 103/150\n",
      "150/150 [==============================] - 0s 1ms/step - loss: 0.1710 - accuracy: 0.9333 - val_loss: 0.0706 - val_accuracy: 0.9800\n",
      "Epoch 104/150\n",
      "150/150 [==============================] - 0s 932us/step - loss: 0.1693 - accuracy: 0.9333 - val_loss: 0.0722 - val_accuracy: 0.9800\n",
      "Epoch 105/150\n",
      "150/150 [==============================] - 0s 952us/step - loss: 0.1821 - accuracy: 0.9200 - val_loss: 0.0677 - val_accuracy: 0.9800\n",
      "Epoch 106/150\n",
      "150/150 [==============================] - 0s 1ms/step - loss: 0.1826 - accuracy: 0.9200 - val_loss: 0.0741 - val_accuracy: 0.9800\n",
      "Epoch 107/150\n",
      "150/150 [==============================] - 0s 889us/step - loss: 0.1819 - accuracy: 0.9133 - val_loss: 0.0699 - val_accuracy: 0.9800\n",
      "Epoch 108/150\n",
      "150/150 [==============================] - 0s 961us/step - loss: 0.1747 - accuracy: 0.9133 - val_loss: 0.0893 - val_accuracy: 0.9800\n",
      "Epoch 109/150\n",
      "150/150 [==============================] - 0s 995us/step - loss: 0.1858 - accuracy: 0.9000 - val_loss: 0.0711 - val_accuracy: 0.9800\n",
      "Epoch 110/150\n",
      "150/150 [==============================] - 0s 984us/step - loss: 0.1695 - accuracy: 0.9333 - val_loss: 0.0639 - val_accuracy: 0.9600\n",
      "Epoch 111/150\n",
      "150/150 [==============================] - 0s 995us/step - loss: 0.1756 - accuracy: 0.9333 - val_loss: 0.0786 - val_accuracy: 0.9800\n",
      "Epoch 112/150\n",
      "150/150 [==============================] - 0s 2ms/step - loss: 0.1750 - accuracy: 0.9333 - val_loss: 0.0912 - val_accuracy: 0.9400\n",
      "Epoch 113/150\n"
     ]
    },
    {
     "name": "stdout",
     "output_type": "stream",
     "text": [
      "150/150 [==============================] - 0s 1ms/step - loss: 0.1730 - accuracy: 0.9333 - val_loss: 0.0647 - val_accuracy: 0.9600\n",
      "Epoch 114/150\n",
      "150/150 [==============================] - 0s 791us/step - loss: 0.1666 - accuracy: 0.9267 - val_loss: 0.0829 - val_accuracy: 0.9400\n",
      "Epoch 115/150\n",
      "150/150 [==============================] - 0s 1ms/step - loss: 0.1607 - accuracy: 0.9267 - val_loss: 0.0873 - val_accuracy: 0.9600\n",
      "Epoch 116/150\n",
      "150/150 [==============================] - 0s 968us/step - loss: 0.1870 - accuracy: 0.9333 - val_loss: 0.0620 - val_accuracy: 0.9800\n",
      "Epoch 117/150\n",
      "150/150 [==============================] - 0s 953us/step - loss: 0.1848 - accuracy: 0.9333 - val_loss: 0.0722 - val_accuracy: 0.9800\n",
      "Epoch 118/150\n",
      "150/150 [==============================] - 0s 937us/step - loss: 0.1707 - accuracy: 0.9200 - val_loss: 0.0634 - val_accuracy: 0.9800\n",
      "Epoch 119/150\n",
      "150/150 [==============================] - 0s 913us/step - loss: 0.1731 - accuracy: 0.9200 - val_loss: 0.0700 - val_accuracy: 0.9400\n",
      "Epoch 120/150\n",
      "150/150 [==============================] - 0s 1ms/step - loss: 0.1774 - accuracy: 0.9333 - val_loss: 0.0700 - val_accuracy: 0.9800\n",
      "Epoch 121/150\n",
      "150/150 [==============================] - 0s 1ms/step - loss: 0.1510 - accuracy: 0.9467 - val_loss: 0.0587 - val_accuracy: 0.9800\n",
      "Epoch 122/150\n",
      "150/150 [==============================] - 0s 941us/step - loss: 0.2010 - accuracy: 0.9133 - val_loss: 0.0609 - val_accuracy: 0.9800\n",
      "Epoch 123/150\n",
      "150/150 [==============================] - 0s 1ms/step - loss: 0.1574 - accuracy: 0.9333 - val_loss: 0.0790 - val_accuracy: 0.9800\n",
      "Epoch 124/150\n",
      "150/150 [==============================] - 0s 878us/step - loss: 0.1881 - accuracy: 0.9333 - val_loss: 0.0758 - val_accuracy: 0.9600\n",
      "Epoch 125/150\n",
      "150/150 [==============================] - 0s 1ms/step - loss: 0.1761 - accuracy: 0.9267 - val_loss: 0.0830 - val_accuracy: 0.9600\n",
      "Epoch 126/150\n",
      "150/150 [==============================] - 0s 975us/step - loss: 0.2048 - accuracy: 0.9133 - val_loss: 0.0699 - val_accuracy: 0.9800\n",
      "Epoch 127/150\n",
      "150/150 [==============================] - 0s 1ms/step - loss: 0.1668 - accuracy: 0.9267 - val_loss: 0.0644 - val_accuracy: 0.9800\n",
      "Epoch 128/150\n",
      "150/150 [==============================] - 0s 1ms/step - loss: 0.1893 - accuracy: 0.9200 - val_loss: 0.0764 - val_accuracy: 0.9600\n",
      "Epoch 129/150\n",
      "150/150 [==============================] - 0s 1ms/step - loss: 0.1855 - accuracy: 0.9133 - val_loss: 0.0603 - val_accuracy: 0.9800\n",
      "Epoch 130/150\n",
      "150/150 [==============================] - 0s 1ms/step - loss: 0.1657 - accuracy: 0.9267 - val_loss: 0.0822 - val_accuracy: 0.9400\n",
      "Epoch 131/150\n",
      "150/150 [==============================] - 0s 1ms/step - loss: 0.1797 - accuracy: 0.9133 - val_loss: 0.0628 - val_accuracy: 0.9800\n",
      "Epoch 132/150\n",
      "150/150 [==============================] - 0s 1ms/step - loss: 0.1722 - accuracy: 0.9333 - val_loss: 0.0873 - val_accuracy: 0.9800\n",
      "Epoch 133/150\n",
      "150/150 [==============================] - 0s 932us/step - loss: 0.1726 - accuracy: 0.9467 - val_loss: 0.0702 - val_accuracy: 0.9600\n",
      "Epoch 134/150\n",
      "150/150 [==============================] - 0s 1ms/step - loss: 0.1374 - accuracy: 0.9467 - val_loss: 0.0683 - val_accuracy: 0.9800\n",
      "Epoch 135/150\n",
      "150/150 [==============================] - 0s 1ms/step - loss: 0.1650 - accuracy: 0.9133 - val_loss: 0.0801 - val_accuracy: 0.9800\n",
      "Epoch 136/150\n",
      "150/150 [==============================] - 0s 1ms/step - loss: 0.1544 - accuracy: 0.9267 - val_loss: 0.0846 - val_accuracy: 0.9400\n",
      "Epoch 137/150\n",
      "150/150 [==============================] - 0s 1ms/step - loss: 0.1654 - accuracy: 0.9200 - val_loss: 0.0909 - val_accuracy: 0.9600\n",
      "Epoch 138/150\n",
      "150/150 [==============================] - 0s 1ms/step - loss: 0.1829 - accuracy: 0.9333 - val_loss: 0.0666 - val_accuracy: 0.9800\n",
      "Epoch 139/150\n",
      "150/150 [==============================] - 0s 976us/step - loss: 0.1885 - accuracy: 0.9333 - val_loss: 0.0773 - val_accuracy: 0.9600\n",
      "Epoch 140/150\n",
      "150/150 [==============================] - 0s 955us/step - loss: 0.1665 - accuracy: 0.9200 - val_loss: 0.0733 - val_accuracy: 0.9600\n",
      "Epoch 141/150\n",
      "150/150 [==============================] - 0s 1ms/step - loss: 0.1788 - accuracy: 0.9467 - val_loss: 0.0672 - val_accuracy: 0.9800\n",
      "Epoch 142/150\n",
      "150/150 [==============================] - 0s 952us/step - loss: 0.1850 - accuracy: 0.9267 - val_loss: 0.0668 - val_accuracy: 0.9800\n",
      "Epoch 143/150\n",
      "150/150 [==============================] - 0s 1ms/step - loss: 0.1729 - accuracy: 0.9267 - val_loss: 0.0641 - val_accuracy: 0.9800\n",
      "Epoch 144/150\n",
      "150/150 [==============================] - 0s 1ms/step - loss: 0.1860 - accuracy: 0.9400 - val_loss: 0.0748 - val_accuracy: 0.9800\n",
      "Epoch 145/150\n",
      "150/150 [==============================] - 0s 965us/step - loss: 0.1851 - accuracy: 0.9200 - val_loss: 0.0624 - val_accuracy: 0.9800\n",
      "Epoch 146/150\n",
      "150/150 [==============================] - 0s 961us/step - loss: 0.1600 - accuracy: 0.9333 - val_loss: 0.0937 - val_accuracy: 0.9800\n",
      "Epoch 147/150\n",
      "150/150 [==============================] - 0s 974us/step - loss: 0.1990 - accuracy: 0.9200 - val_loss: 0.0598 - val_accuracy: 0.9800\n",
      "Epoch 148/150\n",
      "150/150 [==============================] - 0s 896us/step - loss: 0.1679 - accuracy: 0.9400 - val_loss: 0.0602 - val_accuracy: 0.9800\n",
      "Epoch 149/150\n",
      "150/150 [==============================] - 0s 1ms/step - loss: 0.1532 - accuracy: 0.9200 - val_loss: 0.0630 - val_accuracy: 0.9800\n",
      "Epoch 150/150\n",
      "150/150 [==============================] - 0s 983us/step - loss: 0.2023 - accuracy: 0.9267 - val_loss: 0.0673 - val_accuracy: 0.9800\n"
     ]
    }
   ],
   "source": [
    "batch=2 # количество элементов единовременно используемых для обучения\n",
    "epochs=150 # количество циклов обучения \n",
    "validation_split=0.25 # количество данных, используемых для валидации непосредственно во время обучения\n",
    "\n",
    "# для задачи бинарной классификации воспользуемся функцией потерь binary_crossentropy\n",
    "model.compile(loss='binary_crossentropy',optimizer='RMSprop',metrics=['accuracy'])\n",
    "        \n",
    "history=model.fit(x_train,y_train,batch_size=batch,epochs=epochs,verbose=True,validation_split=validation_split)"
   ]
  },
  {
   "cell_type": "code",
   "execution_count": 12,
   "metadata": {},
   "outputs": [
    {
     "data": {
      "image/png": "[encoded data removed]",
      "text/plain": [
       "<Figure size 432x288 with 1 Axes>"
      ]
     },
     "metadata": {
      "needs_background": "light"
     },
     "output_type": "display_data"
    }
   ],
   "source": [
    "# строим график точности\n",
    "plt.plot(history.history['accuracy'])\n",
    "plt.plot(history.history['val_accuracy'])\n",
    "plt.title('model accuracy')\n",
    "plt.ylabel('accuracy')\n",
    "plt.xlabel('epoch')\n",
    "plt.legend(['accuracy', 'val_accuracy'], loc='upper left')\n",
    "plt.show()"
   ]
  },
  {
   "cell_type": "code",
   "execution_count": 13,
   "metadata": {},
   "outputs": [
    {
     "data": {
      "image/png": "[encoded data removed]",
      "text/plain": [
       "<Figure size 432x288 with 1 Axes>"
      ]
     },
     "metadata": {
      "needs_background": "light"
     },
     "output_type": "display_data"
    }
   ],
   "source": [
    "# строим график потерь\n",
    "plt.plot(history.history['loss'])\n",
    "plt.plot(history.history['val_loss'])\n",
    "plt.title('model loss')\n",
    "plt.ylabel('loss')\n",
    "plt.xlabel('epoch')\n",
    "plt.legend(['loss', 'val_loss'], loc='upper left')\n",
    "plt.show()"
   ]
  },
  {
   "cell_type": "markdown",
   "metadata": {},
   "source": [
    "Проверим модель на тестовой выборке"
   ]
  },
  {
   "cell_type": "code",
   "execution_count": 14,
   "metadata": {},
   "outputs": [
    {
     "name": "stdout",
     "output_type": "stream",
     "text": [
      "200/200 [==============================] - 0s 126us/step\n",
      "\n",
      "Test score: 0.3576906284689903\n",
      "Test accuracy: 0.925000011920929\n"
     ]
    }
   ],
   "source": [
    "score=model.evaluate(x_test,y_test)\n",
    "print(\"\\nTest score:\", score[0])\n",
    "print('Test accuracy:', score[1])"
   ]
  },
  {
   "cell_type": "markdown",
   "metadata": {},
   "source": [
    "## Байесовский наивный классификтор"
   ]
  },
  {
   "cell_type": "code",
   "execution_count": 15,
   "metadata": {},
   "outputs": [
    {
     "name": "stderr",
     "output_type": "stream",
     "text": [
      "C:\\Users\\Dmitry\\Anaconda3\\envs\\neuro1\\lib\\site-packages\\sklearn\\naive_bayes.py:206: DataConversionWarning: A column-vector y was passed when a 1d array was expected. Please change the shape of y to (n_samples, ), for example using ravel().\n",
      "  y = column_or_1d(y, warn=True)\n",
      "C:\\Users\\Dmitry\\Anaconda3\\envs\\neuro1\\lib\\site-packages\\sklearn\\utils\\validation.py:760: DataConversionWarning: A column-vector y was passed when a 1d array was expected. Please change the shape of y to (n_samples, ), for example using ravel().\n",
      "  y = column_or_1d(y, warn=True)\n"
     ]
    },
    {
     "data": {
      "text/plain": [
       "BernoulliNB(alpha=1.0, binarize=0.0, class_prior=None, fit_prior=True)"
      ]
     },
     "execution_count": 15,
     "metadata": {},
     "output_type": "execute_result"
    }
   ],
   "source": [
    "NB = GaussianNB()  \n",
    "NB.fit(x_train, y_train)   \n",
    "BNB=BernoulliNB()\n",
    "BNB.fit(x_train, y_train)"
   ]
  },
  {
   "cell_type": "code",
   "execution_count": 16,
   "metadata": {},
   "outputs": [
    {
     "name": "stdout",
     "output_type": "stream",
     "text": [
      "Accuracy Normal NB: 0.83\n",
      "Accuracy Bernulli NB: 0.83\n"
     ]
    }
   ],
   "source": [
    "y_predict_nb = NB.predict(x_test)  \n",
    "y2_predict_bnb=BNB.predict(x_test)\n",
    "print(\"Accuracy Normal NB: {:.2f}\".format(NB.score(x_test, y_test)))\n",
    "print(\"Accuracy Bernulli NB: {:.2f}\".format(BNB.score(x_test, y_test)))"
   ]
  },
  {
   "cell_type": "markdown",
   "metadata": {},
   "source": [
    "## Линейный дискриминантный анализ"
   ]
  },
  {
   "cell_type": "code",
   "execution_count": 17,
   "metadata": {},
   "outputs": [
    {
     "name": "stderr",
     "output_type": "stream",
     "text": [
      "C:\\Users\\Dmitry\\Anaconda3\\envs\\neuro1\\lib\\site-packages\\sklearn\\utils\\validation.py:760: DataConversionWarning: A column-vector y was passed when a 1d array was expected. Please change the shape of y to (n_samples, ), for example using ravel().\n",
      "  y = column_or_1d(y, warn=True)\n"
     ]
    },
    {
     "data": {
      "text/plain": [
       "LinearDiscriminantAnalysis(n_components=None, priors=None, shrinkage=None,\n",
       "                           solver='svd', store_covariance=False, tol=0.0001)"
      ]
     },
     "execution_count": 17,
     "metadata": {},
     "output_type": "execute_result"
    }
   ],
   "source": [
    "LDA = LinearDiscriminantAnalysis()\n",
    "LDA.fit(x_train, y_train)"
   ]
  },
  {
   "cell_type": "code",
   "execution_count": 18,
   "metadata": {},
   "outputs": [
    {
     "name": "stdout",
     "output_type": "stream",
     "text": [
      "Linear Discriminant Analysis:  0.855\n"
     ]
    }
   ],
   "source": [
    "score_lda = LDA.score(x_test, y_test)\n",
    "print(\"Linear Discriminant Analysis: \", score_lda)"
   ]
  },
  {
   "cell_type": "markdown",
   "metadata": {},
   "source": [
    "## Квадратичный дискриминантный анализ"
   ]
  },
  {
   "cell_type": "code",
   "execution_count": 19,
   "metadata": {},
   "outputs": [
    {
     "name": "stderr",
     "output_type": "stream",
     "text": [
      "C:\\Users\\Dmitry\\Anaconda3\\envs\\neuro1\\lib\\site-packages\\sklearn\\utils\\validation.py:760: DataConversionWarning: A column-vector y was passed when a 1d array was expected. Please change the shape of y to (n_samples, ), for example using ravel().\n",
      "  y = column_or_1d(y, warn=True)\n"
     ]
    },
    {
     "data": {
      "text/plain": [
       "QuadraticDiscriminantAnalysis(priors=None, reg_param=0.0,\n",
       "                              store_covariance=False, tol=0.0001)"
      ]
     },
     "execution_count": 19,
     "metadata": {},
     "output_type": "execute_result"
    }
   ],
   "source": [
    "QDA = QuadraticDiscriminantAnalysis()\n",
    "QDA.fit(x_train, y_train)"
   ]
  },
  {
   "cell_type": "code",
   "execution_count": 20,
   "metadata": {},
   "outputs": [
    {
     "name": "stdout",
     "output_type": "stream",
     "text": [
      "Quadratic Discriminant Analysis 0.855\n"
     ]
    }
   ],
   "source": [
    "score_qda = QDA.score(x_test, y_test) \n",
    "print(\"Quadratic Discriminant Analysis\", score_qda)"
   ]
  },
  {
   "cell_type": "code",
   "execution_count": 44,
   "metadata": {},
   "outputs": [
    {
     "name": "stdout",
     "output_type": "stream",
     "text": [
      "Neuro test accuracy: 0.925000011920929\n",
      "Accuracy Normal Naive Bayes: 0.83\n",
      "Accuracy Bernulli Naive Bayes: 0.83\n",
      "Linear Discriminant Analysis:  0.855\n",
      "Quadratic Discriminant Analysis 0.855\n"
     ]
    }
   ],
   "source": [
    "print('Neuro test accuracy:', score[1])\n",
    "print(\"Accuracy Normal Naive Bayes: {:.2f}\".format(NB.score(x_test, y_test)))\n",
    "print(\"Accuracy Bernulli Naive Bayes: {:.2f}\".format(BNB.score(x_test, y_test)))\n",
    "print(\"Linear Discriminant Analysis: \", score_lda)\n",
    "print(\"Quadratic Discriminant Analysis\", score_qda)"
   ]
  },
  {
   "cell_type": "markdown",
   "metadata": {},
   "source": [
    " "
   ]
  }
 ],
 "metadata": {
  "kernelspec": {
   "display_name": "Python [conda env:neuro1] *",
   "language": "python",
   "name": "conda-env-neuro1-py"
  },
  "language_info": {
   "codemirror_mode": {
    "name": "ipython",
    "version": 3
   },
   "file_extension": ".py",
   "mimetype": "text/x-python",
   "name": "python",
   "nbconvert_exporter": "python",
   "pygments_lexer": "ipython3",
   "version": "3.7.6"
  }
 },
 "nbformat": 4,
 "nbformat_minor": 4
}
